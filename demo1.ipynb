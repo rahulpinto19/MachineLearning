{
  "metadata": {
    "kernelspec": {
      "name": "python",
      "display_name": "Python (Pyodide)",
      "language": "python"
    },
    "language_info": {
      "codemirror_mode": {
        "name": "python",
        "version": 3
      },
      "file_extension": ".py",
      "mimetype": "text/x-python",
      "name": "python",
      "nbconvert_exporter": "python",
      "pygments_lexer": "ipython3",
      "version": "3.8"
    }
  },
  "nbformat_minor": 5,
  "nbformat": 4,
  "cells": [
    {
      "id": "adb24098-7809-455b-8a0f-8944ebd99a63",
      "cell_type": "code",
      "source": "import matplotlib as plt\nimport numpy as np \nfrom sklearn import datasets,linear_model\nfrom sklearn.metrics import mean_squared_error",
      "metadata": {
        "trusted": true
      },
      "outputs": [],
      "execution_count": 20
    },
    {
      "id": "62151972-f427-4d03-80d9-d48a8a75331a",
      "cell_type": "code",
      "source": "# ['data', 'target', 'frame', 'DESCR', 'feature_names', 'data_filename', 'target_filename', 'data_module']\ndiabetes = datasets.load_diabetes()\ndiabetes_x  = diabetes.data[:,np.newaxis,2]\ndiabetes_x_train = diabetes_x[:-30]\ndiabetes_x_test = diabetes_x[-30:]\n\ndiabetes_y_train = diabetes_x[:-30]\ndiabetes_y_test = diabetes_x[-30:]\n\nmodel = linear_model.LinearRegression()\n\nmodel.fit(diabetes_x_train,diabetes_x_train)\n\ndiabetes_y_predicted = model.predict(diabetes_x_test)\n\nprint(\"mean sqaured error is \",mean_squared_error(diabetes_y_test,diabetes_y_predicted))",
      "metadata": {
        "trusted": true
      },
      "outputs": [
        {
          "name": "stdout",
          "text": "mean sqaured error is  8.699598591565586e-35\n",
          "output_type": "stream"
        }
      ],
      "execution_count": 22
    }
  ]
}